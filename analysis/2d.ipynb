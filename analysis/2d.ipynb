{
 "metadata": {
  "language_info": {
   "codemirror_mode": {
    "name": "ipython",
    "version": 3
   },
   "file_extension": ".py",
   "mimetype": "text/x-python",
   "name": "python",
   "nbconvert_exporter": "python",
   "pygments_lexer": "ipython3",
   "version": "3.8.5"
  },
  "orig_nbformat": 4,
  "kernelspec": {
   "name": "python3",
   "display_name": "Python 3.8.5  ('cu_venv': venv)"
  },
  "interpreter": {
   "hash": "5a3d75387e9e3db79bcdfd79518377c34ff0dfe456eb03ad7547fa2a1ef6bc84"
  }
 },
 "nbformat": 4,
 "nbformat_minor": 2,
 "cells": [
  {
   "cell_type": "code",
   "execution_count": null,
   "metadata": {},
   "outputs": [],
   "source": [
    "import os\n",
    "import pandas as pd\n",
    "from sklearn.cluster import KMeans\n",
    "from sklearn.manifold import TSNE\n",
    "import plotly.express as px\n",
    "from sklearn.decomposition import PCA"
   ]
  },
  {
   "cell_type": "code",
   "execution_count": null,
   "metadata": {},
   "outputs": [],
   "source": [
    "DATA_PATH = 'csv'\n",
    "RANDOM_STATE = 123"
   ]
  },
  {
   "cell_type": "code",
   "execution_count": null,
   "metadata": {},
   "outputs": [],
   "source": [
    "def clusters(\n",
    "    df: pd.DataFrame,\n",
    "    n_clusters: int\n",
    "):\n",
    "    X = df.drop(columns=['time'])\n",
    "\n",
    "    kmeans = KMeans(\n",
    "        n_clusters=n_clusters,\n",
    "        random_state=RANDOM_STATE\n",
    "    ).fit(X)\n",
    "\n",
    "    df = df[['time']].copy()\n",
    "    df['cluster'] = kmeans.labels_\n",
    "\n",
    "    return df\n",
    "\n",
    "def plot_clusters_tsne(\n",
    "    df: pd.DataFrame,\n",
    "    n_clusters: int,\n",
    "    method: str = 'tsne'\n",
    "):\n",
    "    X = df.drop(columns=['time'])\n",
    "\n",
    "    df = clusters(df, n_clusters)\n",
    "\n",
    "    if method == 'tsne':\n",
    "        X_embedded = TSNE(\n",
    "            n_components=2,\n",
    "            random_state=RANDOM_STATE\n",
    "        ).fit_transform(X)\n",
    "        X_embedded = pd.DataFrame(X_embedded)\n",
    "        df['x'] = X_embedded[0]\n",
    "        df['y'] = X_embedded[1]\n",
    "    elif method=='pca':\n",
    "        pca = PCA(n_components=2).fit_transform(X.values)\n",
    "        df['x'] = pca[:,0]\n",
    "        df['y'] = pca[:,1]\n",
    "    fig = px.scatter(df, x='x', y='y', color='cluster', hover_name='time')\n",
    "    fig.show()\n",
    "\n",
    "def make_plot(\n",
    "    machine:str,\n",
    "    n_clusters: int = 3,\n",
    "    method: str = 'tsne'\n",
    "):\n",
    "    data = pd.read_csv(os.path.join(DATA_PATH, machine+'_norm.csv'))\n",
    "    plot_clusters_tsne(data, n_clusters, method)"
   ]
  },
  {
   "source": [
    "## TSNE"
   ],
   "cell_type": "markdown",
   "metadata": {}
  },
  {
   "cell_type": "code",
   "execution_count": null,
   "metadata": {},
   "outputs": [],
   "source": [
    "make_plot('WOS___174L', method='tsne')"
   ]
  },
  {
   "cell_type": "code",
   "execution_count": null,
   "metadata": {},
   "outputs": [],
   "source": [
    "make_plot('WOS___175L', method='tsne')"
   ]
  },
  {
   "cell_type": "code",
   "execution_count": null,
   "metadata": {},
   "outputs": [],
   "source": [
    "make_plot('WOS___176L', method='tsne')"
   ]
  },
  {
   "cell_type": "code",
   "execution_count": null,
   "metadata": {},
   "outputs": [],
   "source": [
    "make_plot('WOS___177L', method='tsne')"
   ]
  },
  {
   "cell_type": "code",
   "execution_count": null,
   "metadata": {},
   "outputs": [],
   "source": [
    "make_plot('WOS___179L', method='tsne')"
   ]
  },
  {
   "source": [
    "## PCA"
   ],
   "cell_type": "markdown",
   "metadata": {}
  },
  {
   "cell_type": "code",
   "execution_count": null,
   "metadata": {},
   "outputs": [],
   "source": [
    "make_plot('WOS___174L', method='pca')"
   ]
  },
  {
   "cell_type": "code",
   "execution_count": null,
   "metadata": {},
   "outputs": [],
   "source": [
    "make_plot('WOS___175L', method='pca')"
   ]
  },
  {
   "cell_type": "code",
   "execution_count": null,
   "metadata": {},
   "outputs": [],
   "source": [
    "make_plot('WOS___176L', method='pca')"
   ]
  },
  {
   "cell_type": "code",
   "execution_count": null,
   "metadata": {},
   "outputs": [],
   "source": [
    "make_plot('WOS___177L', method='pca')"
   ]
  },
  {
   "cell_type": "code",
   "execution_count": null,
   "metadata": {},
   "outputs": [],
   "source": [
    "make_plot('WOS___179L', method='pca')"
   ]
  }
 ]
}